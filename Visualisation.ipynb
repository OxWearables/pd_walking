{
 "cells": [
  {
   "cell_type": "code",
   "execution_count": null,
   "metadata": {},
   "outputs": [],
   "source": [
    "import os\n",
    "import pandas as pd\n",
    "import numpy as np\n",
    "import matplotlib.pyplot as plt\n",
    "import seaborn as sns\n",
    "\n",
    "from evaluate import join_scores\n",
    "from process_ldopa import build_metadata"
   ]
  },
  {
   "cell_type": "code",
   "execution_count": null,
   "metadata": {},
   "outputs": [],
   "source": [
    "def report_score(scores):\n",
    "    return f\"{scores.mean():.3f} [\\u00B1 {scores.std():.3f}]\""
   ]
  },
  {
   "cell_type": "code",
   "execution_count": null,
   "metadata": {},
   "outputs": [],
   "source": [
    "my_scores = pd.read_pickle(\"outputs/predictions/all_scores.pkl\")\n",
    "\n",
    "my_scores[\"source\"] = [\n",
    "    \"OxWalk\" if \"wrist\" in pid else \"Ldopa\" for pid in my_scores.index\n",
    "]\n",
    "\n",
    "scores = my_scores.groupby([\"source\"]).mean()\n",
    "scores.to_csv(\"outputs/predictions/performance_table.csv\")"
   ]
  },
  {
   "cell_type": "code",
   "execution_count": null,
   "metadata": {},
   "outputs": [],
   "source": [
    "score_df = join_scores(\"outputs/predictions\")\n",
    "metadata = build_metadata(processeddir=\"data/Ldopa_Processed\")[\"MeanUPDRS\"]\n",
    "\n",
    "df = pd.concat([score_df, metadata], axis=1)\n",
    "\n",
    "for source in [\"LDOPA\", \"OXWALK\"]:\n",
    "    for model in [\"rf\", \"ssl\"]:\n",
    "        df[f\"scores_{model}_train_{source}_test_all\"] = np.where(\n",
    "            pd.isna(df[\"MeanUPDRS\"]),\n",
    "            df[f\"scores_{model}_train_{source}_test_OXWALK\"],\n",
    "            df[f\"scores_{model}_train_{source}_test_LDOPA\"]\n",
    "        )\n",
    "\n",
    "cols = {\n",
    "    \"scores_rf_train_all_test_all\": \"Combined Trained RF\",\n",
    "    \"scores_rf_train_LDOPA_test_all\": \"Ldopa Trained RF\",\n",
    "    \"scores_rf_train_OXWALK_test_all\": \"OxWalk Trained RF\",\n",
    "    \"scores_ssl_train_OXWALK_test_all\": \"1: OxWalk (healthy)\",\n",
    "    \"scores_ssl_train_LDOPA_test_all\": \"2: MJFF-LR (PD)\",\n",
    "    \"scores_ssl_train_all_test_all\": \"3: OxWalk (healthy) + MJFF-LR (PD)\",\n",
    "}\n",
    "\n",
    "df.rename(columns=cols, inplace=True)\n",
    "\n",
    "df = df[list(cols.values()) + [\"MeanUPDRS\"]]\n",
    "\n",
    "df['MeanUPDRS'].fillna(-1, inplace=True)"
   ]
  },
  {
   "cell_type": "code",
   "execution_count": null,
   "metadata": {},
   "outputs": [],
   "source": [
    "# Melt the DataFrame for scatter plot\n",
    "legend_name = 'Model trained on'\n",
    "\n",
    "dfm = df.melt(\"MeanUPDRS\", var_name=legend_name, value_name=\"F1 score\", ignore_index = False).reset_index(names=\"Participant\")\n",
    "dfm = dfm.dropna().reset_index(drop=True)\n",
    "\n",
    "bins = [-5, 0, 15, 20, 25, float('inf')]\n",
    "labels = [\"OxWalk<br>(Healthy)\", \"MJFF-LR<br>(0-15)\", \"MJFF-LR<br>(15-20)\", \n",
    "          \"MJFF-LR<br>(20-25)\", \"MJFF-LR<br>(25+)\"]\n",
    "\n",
    "\n",
    "dfm['Population'] = pd.cut(dfm['MeanUPDRS'], bins,\n",
    "                                    labels=labels)"
   ]
  },
  {
   "cell_type": "code",
   "execution_count": null,
   "metadata": {},
   "outputs": [],
   "source": [
    "metadata = pd.DataFrame(metadata, index=metadata.index)\n",
    "metadata.name = \"MeanUPDRS\"\n",
    "\n",
    "bins = [0, 15, 20, 25, float('inf')]\n",
    "labels = [\"Least\\nsevere\", \"Less\\nsevere\", \"More\\nsevere\", \"Most\\nsevere\"]\n",
    "\n",
    "metadata[\"Population\"] = pd.cut(metadata[\"MeanUPDRS\"], bins, labels=labels)"
   ]
  },
  {
   "cell_type": "code",
   "execution_count": null,
   "metadata": {},
   "outputs": [],
   "source": [
    "fig, ax = plt.subplots(figsize=(10,4), dpi=1000)\n",
    "plt.rcParams.update({'font.size': 14})\n",
    "with sns.color_palette(\"Dark2\"): \n",
    "    sns.boxplot(data=metadata, y=\"Population\", x=\"MeanUPDRS\", \n",
    "                ax=ax)\n",
    "sns.stripplot(data=metadata, y=\"Population\", x=\"MeanUPDRS\", \n",
    "              ax=ax, color='black', alpha=0.3, size=10)\n",
    "plt.ylabel(\"MJFF-LR subpopulation\")\n",
    "plt.xlabel(\"Mean UPDRS Part III score\")\n",
    "plt.xlim(0, 35)\n",
    "plt.show()"
   ]
  },
  {
   "cell_type": "code",
   "execution_count": null,
   "metadata": {},
   "outputs": [],
   "source": [
    "df_ssl = dfm[['Trained' not in model for model in dfm[legend_name]]]"
   ]
  },
  {
   "cell_type": "code",
   "execution_count": null,
   "metadata": {},
   "outputs": [],
   "source": [
    "df_pres = dfm.copy()"
   ]
  },
  {
   "cell_type": "code",
   "execution_count": null,
   "metadata": {},
   "outputs": [],
   "source": [
    "df_pres.Population = df_pres.Population.cat.remove_categories('OxWalk<br>(Healthy)')\n",
    "\n",
    "df_pres.Population = df_pres.Population.cat.rename_categories({\n",
    "    \"MJFF-LR<br>(0-15)\": \"0-15\",\n",
    "    \"MJFF-LR<br>(15-20)\": \"15-20\",\n",
    "    \"MJFF-LR<br>(20-25)\": \"20-25\",\n",
    "    \"MJFF-LR<br>(25+)\": \"25+\"\n",
    "})"
   ]
  },
  {
   "cell_type": "code",
   "execution_count": null,
   "metadata": {},
   "outputs": [],
   "source": [
    "df_pres = df_pres[df_pres[\"Model trained on\"]==\"1: OxWalk (healthy)\"]"
   ]
  },
  {
   "cell_type": "code",
   "execution_count": null,
   "metadata": {},
   "outputs": [],
   "source": [
    "df_pres.dropna(inplace=True)"
   ]
  },
  {
   "cell_type": "code",
   "execution_count": null,
   "metadata": {},
   "outputs": [],
   "source": [
    "fig, ax = plt.subplots(figsize=(6, 4), dpi=1000)\n",
    "with sns.color_palette(\"Dark2\"):\n",
    "    sns.boxplot(data=df_pres, x=\"Population\", y=\"F1 score\", width=0.3, ax=ax)\n",
    "ax.set_xlabel(\"MJFF-LR subpopulation\")\n",
    "ax.set_ylim(0.45, 1.02)"
   ]
  },
  {
   "cell_type": "code",
   "execution_count": null,
   "metadata": {},
   "outputs": [],
   "source": [
    "dfm.Population.value_counts()"
   ]
  },
  {
   "cell_type": "code",
   "execution_count": null,
   "metadata": {},
   "outputs": [],
   "source": [
    "dfm_pres = dfm[~dfm[\"Model trained on\"].str.contains(\"RF\")]"
   ]
  },
  {
   "cell_type": "code",
   "execution_count": null,
   "metadata": {},
   "outputs": [],
   "source": [
    "dfm_pres.Population = dfm_pres.Population.cat.rename_categories({\n",
    "    \"MJFF-LR<br>(0-15)\": \"MJFF-LR\\n(Least severe)\",\n",
    "    \"MJFF-LR<br>(15-20)\": \"MJFF-LR\\n(Less severe)\",\n",
    "    \"MJFF-LR<br>(20-25)\": \"MJFF-LR\\n(More severe)\",\n",
    "    \"MJFF-LR<br>(25+)\": \"MJFF-LR\\n(Most severe)\",\n",
    "    \"OxWalk<br>(Healthy)\": \"OxWalk\\n(Healthy)\"\n",
    "})"
   ]
  },
  {
   "cell_type": "code",
   "execution_count": null,
   "metadata": {},
   "outputs": [],
   "source": [
    "dfm_pres.Population.value_counts()"
   ]
  },
  {
   "cell_type": "code",
   "execution_count": null,
   "metadata": {},
   "outputs": [],
   "source": [
    "fig, ax = plt.subplots(figsize=(10, 6), dpi=1000)\n",
    "with sns.color_palette(\"Set1\"):\n",
    "    sns.boxplot(data=dfm_pres, x=\"Population\", y=\"F1 score\", hue=\"Model trained on\", ax=ax)\n",
    "ax.set_xlabel(\"Testing Population\")\n",
    "plt.axvline(0.5, color='red', linestyle='--')\n",
    "ax.set_ylim(0.2, 1.01)\n",
    "plt.savefig(\"outputs/plots/final_perf.png\")"
   ]
  }
 ],
 "metadata": {
  "kernelspec": {
   "display_name": "pd_walk",
   "language": "python",
   "name": "python3"
  },
  "language_info": {
   "codemirror_mode": {
    "name": "ipython",
    "version": 3
   },
   "file_extension": ".py",
   "mimetype": "text/x-python",
   "name": "python",
   "nbconvert_exporter": "python",
   "pygments_lexer": "ipython3",
   "version": "3.9.17"
  },
  "orig_nbformat": 4
 },
 "nbformat": 4,
 "nbformat_minor": 2
}
