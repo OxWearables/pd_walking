{
 "cells": [
  {
   "cell_type": "code",
   "execution_count": null,
   "metadata": {},
   "outputs": [],
   "source": [
    "import numpy as np\n",
    "import pandas as pd\n",
    "import matplotlib.pyplot as plt\n",
    "import seaborn as sns\n",
    "import actipy\n",
    "from scipy.interpolate import interp1d\n",
    "from scipy import constants\n",
    "from datetime import datetime\n",
    "from sklearn.metrics import confusion_matrix, accuracy_score, f1_score"
   ]
  },
  {
   "cell_type": "markdown",
   "metadata": {},
   "source": [
    "# Thesis sample plots"
   ]
  },
  {
   "cell_type": "code",
   "execution_count": null,
   "metadata": {},
   "outputs": [],
   "source": [
    "def parse_datetime_from_timestamp(time_in_secs):\n",
    "    return datetime.fromtimestamp(float(time_in_secs))\n",
    "\n",
    "def plot_window(data: pd.DataFrame, window=[], title=\"\", legend=[], sample_hz=100,                 \n",
    "                resample_hz=0, period=10, random_state=42, ylabel=\"Acceleration [g]\",\n",
    "                axes=None, save_path=None):\n",
    "    np.random.seed(random_state)\n",
    "    \n",
    "    if not window:\n",
    "        start_index = np.random.randint(0, len(data) - period*sample_hz)\n",
    "        window = [start_index, start_index + period*sample_hz]\n",
    "    \n",
    "    plot_data = data[['x', 'y', 'z']].iloc[window[0]:window[1]]\n",
    "    \n",
    "    if resample_hz and resample_hz != sample_hz:\n",
    "        plot_data = resize(plot_data, period, resample_hz, axis=0)\n",
    "\n",
    "    plot_data.index = (plot_data.index - plot_data.index[0])/pd.Timedelta(seconds=1)\n",
    "\n",
    "    if axes is None:\n",
    "        fig, axes = plt.subplots(figsize=(8, 4), dpi=1000)\n",
    "    \n",
    "    else:\n",
    "        fig = plt.gcf()\n",
    "\n",
    "    axes.plot(plot_data)\n",
    "    axes.set_facecolor('none')\n",
    "\n",
    "\n",
    "    if title:\n",
    "        axes.set_title(title)\n",
    "    \n",
    "    if legend:\n",
    "        axes.legend(legend)\n",
    "    \n",
    "    axes.set_xlabel(\"Elapsed time [s]\")\n",
    "    axes.set_ylabel(ylabel)\n",
    "\n",
    "    if save_path:\n",
    "        fig.savefig(save_path, transparent=True)\n",
    "\n",
    "def resize(x, period, resample_hz, axis=1):\n",
    "    length =  int(resample_hz * period)\n",
    "    length_orig = x.shape[axis]\n",
    "    t_orig = np.linspace(0, 1, length_orig, endpoint=True)\n",
    "    t_new = np.linspace(0, 1, length, endpoint=True)\n",
    "    x_new = interp1d(t_orig, x, kind=\"linear\", axis=axis, assume_sorted=True)(t_new)\n",
    "    \n",
    "    resampled_data = pd.DataFrame(x_new, columns=x.columns)\n",
    "    resampled_data.index = pd.TimedeltaIndex(t_new * period, unit='s')\n",
    "    \n",
    "    return resampled_data\n",
    "\n",
    "def preprocess_data(data, sample_rate):\n",
    "    data, _ = actipy.process(data, sample_rate, verbose=False)\n",
    "\n",
    "    return data"
   ]
  },
  {
   "cell_type": "markdown",
   "metadata": {},
   "source": [
    "1. raw oxwalk accelerometer data"
   ]
  },
  {
   "cell_type": "code",
   "execution_count": null,
   "metadata": {},
   "outputs": [],
   "source": [
    "oxwalk_raw = pd.read_csv(\"data/OxWalk_Dec2022/Wrist_100Hz/P04_wrist100.csv\",\n",
    "                         index_col=\"timestamp\", parse_dates=True)"
   ]
  },
  {
   "cell_type": "markdown",
   "metadata": {},
   "source": [
    "2. Processed oxwalk"
   ]
  },
  {
   "cell_type": "code",
   "execution_count": null,
   "metadata": {},
   "outputs": [],
   "source": [
    "oxwalk_proc = preprocess_data(oxwalk_raw, 100)"
   ]
  },
  {
   "cell_type": "markdown",
   "metadata": {},
   "source": [
    "3. raw ldopa"
   ]
  },
  {
   "cell_type": "code",
   "execution_count": null,
   "metadata": {},
   "outputs": [],
   "source": [
    "ldopa_raw = pd.read_csv(\"data/LDOPA_DATA/GENEActiv/patient4/rawdata_day4.txt\",\n",
    "                        delimiter=\"\\t\", index_col=\"timestamp\",\n",
    "                        parse_dates=True, skipinitialspace=True,\n",
    "                        date_parser=parse_datetime_from_timestamp)\n",
    "\n",
    "ldopa_raw = ldopa_raw.rename(columns={\"GENEActiv_X\": \"x\", \n",
    "                                      \"GENEActiv_Y\": \"y\", \n",
    "                                      \"GENEActiv_Z\": \"z\"})[[\"x\", \"y\", \"z\"]]"
   ]
  },
  {
   "cell_type": "markdown",
   "metadata": {},
   "source": [
    "4. processed ldopa"
   ]
  },
  {
   "cell_type": "code",
   "execution_count": null,
   "metadata": {},
   "outputs": [],
   "source": [
    "ldopa_proc = preprocess_data(ldopa_raw/constants.g, 50)"
   ]
  },
  {
   "cell_type": "code",
   "execution_count": null,
   "metadata": {},
   "outputs": [],
   "source": [
    "fig, axs = plt.subplots(2, 2, figsize=(10, 6), dpi=800)\n",
    "\n",
    "plot_window(oxwalk_raw,  title=\"Raw AX3 Axivity data\", sample_hz=100, \n",
    "            random_state=50, axes=axs[0, 0])\n",
    "plot_window(oxwalk_proc, title=\"Prepared AX3 Axixity data\", sample_hz=100, \n",
    "            resample_hz=30, random_state=50, axes=axs[1, 0])\n",
    "plot_window(ldopa_raw, title=\"Raw GENEActiv data\", sample_hz=50, axes=axs[0, 1],\n",
    "            ylabel=\"Acceleration [m/s²]\")\n",
    "plot_window(ldopa_proc, title=\"Prepared GENEActiv data\", sample_hz=50, \n",
    "            resample_hz=30, axes=axs[1, 1])\n",
    "\n",
    "fig.legend([\"x\", \"y\", \"z\"])\n",
    "\n",
    "plt.tight_layout()\n",
    "plt.show()"
   ]
  },
  {
   "cell_type": "code",
   "execution_count": null,
   "metadata": {},
   "outputs": [],
   "source": [
    "plot_window(oxwalk_proc, sample_hz=100,\n",
    "            resample_hz=30, random_state=10, period=30, save_path=\"outputs/plots/samples.png\")"
   ]
  },
  {
   "cell_type": "code",
   "execution_count": null,
   "metadata": {},
   "outputs": [],
   "source": [
    "# Simulate confusion matrix\n",
    "np.random.seed(452)\n",
    "labels_true = np.zeros(360, dtype=int)\n",
    "labels_true[:36] = 1  # 10% walking\n",
    "np.random.shuffle(labels_true)\n",
    "\n",
    "labels_pred = np.random.choice([0, 1], size=360, p=[0.95, 0.05])\n",
    "cm = confusion_matrix(labels_true, labels_pred)\n",
    "accuracy = accuracy_score(labels_true, labels_pred)\n",
    "f1 = f1_score(labels_true, labels_pred)\n",
    "\n",
    "plt.figure(figsize=(8, 6), dpi=1000)\n",
    "plt.rcParams.update({'font.size': 14}) \n",
    "sns.heatmap(cm, annot=True, fmt='d', cmap='viridis', annot_kws={'size': 40})\n",
    "\n",
    "plt.title(f'Confusion Matrix\\nAccuracy: {accuracy:.2f}, F1 Score: {f1:.2f}')\n",
    "plt.xlabel('Predicted Label')\n",
    "plt.ylabel('True Label')\n",
    "plt.xticks([0.5, 1.5], ['Not Walking', 'Walking'])\n",
    "plt.yticks([0.5, 1.5], ['Not Walking', 'Walking'])\n",
    "plt.show()"
   ]
  },
  {
   "cell_type": "markdown",
   "metadata": {},
   "source": [
    "# Old sample plots"
   ]
  },
  {
   "cell_type": "code",
   "execution_count": null,
   "metadata": {},
   "outputs": [],
   "source": [
    "X = np.load('prepared_data/both/X.npy')\n",
    "Y = np.load('prepared_data/both/Y.npy')\n",
    "day = np.load('prepared_data/both/day.npy')\n",
    "source = np.load('prepared_data/both/S.npy')\n",
    "pid = np.load('prepared_data/both/P.npy')\n",
    "Y_pred_both_trained_all = np.load('outputs/predictions/y_pred_ssl_train_all_test_all.npy')\n",
    "Y_pred_oxwalk_trained = np.load('outputs/predictions/y_pred_ssl_train_OXWALK_test_LDOPA.npy')\n",
    "Y_pred_ldopa_trained = np.load('outputs/predictions/y_pred_ssl_train_LDOPA_test_LDOPA.npy')"
   ]
  },
  {
   "cell_type": "code",
   "execution_count": null,
   "metadata": {},
   "outputs": [],
   "source": [
    "Y_pred_both_trained_all_rf = np.load('outputs/predictions/y_pred_rf_train_all_test_all.npy')\n",
    "Y_pred_oxwalk_trained_rf = np.load('outputs/predictions/y_pred_rf_train_OXWALK_test_LDOPA.npy')\n",
    "Y_pred_ldopa_trained_rf = np.load('outputs/predictions/y_pred_rf_train_LDOPA_test_LDOPA.npy')"
   ]
  },
  {
   "cell_type": "code",
   "execution_count": null,
   "metadata": {},
   "outputs": [],
   "source": [
    "oxwalk_mask = source == \"OXWALK\"\n",
    "\n",
    "X_oxwalk = X[oxwalk_mask]\n",
    "Y_oxwalk = Y[oxwalk_mask]\n",
    "pid_oxwalk = pid[oxwalk_mask]"
   ]
  },
  {
   "cell_type": "code",
   "execution_count": null,
   "metadata": {},
   "outputs": [],
   "source": [
    "ldopa_mask = source == \"LDOPA\"\n",
    "X_ldopa = X[ldopa_mask]\n",
    "Y_ldopa = Y[ldopa_mask]\n",
    "pid_ldopa = pid[ldopa_mask]\n",
    "day_ldopa = day[ldopa_mask]\n",
    "Y_pred_both_trained = Y_pred_both_trained_all[ldopa_mask]\n",
    "Y_pred_both_trained_rf = Y_pred_both_trained_all_rf[ldopa_mask]"
   ]
  },
  {
   "cell_type": "code",
   "execution_count": null,
   "metadata": {},
   "outputs": [],
   "source": [
    "def plot_samples(X, Y, main_title=\"Accelerometry Traces\"):\n",
    "    NPLOTS = 8\n",
    "    Y = np.array([{'not-walking': 'Not Walking', 'walking': 'Walking'}[elem] for elem in Y])\n",
    "    unqY = np.unique(Y)\n",
    "    np.random.seed(42)\n",
    "    fig, axs = plt.subplots(NPLOTS, len(unqY), sharex=True, sharey=True, figsize=(12, NPLOTS*2))\n",
    "    fig.suptitle(main_title, fontsize=16)\n",
    "\n",
    "    for y, col in zip(unqY, axs.T):\n",
    "        idxs = np.random.choice(np.where(Y==y)[0], size=NPLOTS)\n",
    "        col[0].set_title(y)\n",
    "        for x, ax in zip(X[idxs], col):\n",
    "            time_points = np.arange(0, len(x)) / 30\n",
    "            ax.plot(time_points, np.linalg.norm(x, axis=1) - 1)\n",
    "            ax.set_ylim(-2, 2)\n",
    "            ax.set_xlim(0, len(x) / 30) \n",
    "            ax.set_xlabel('Time (s)')\n",
    "\n",
    "    fig.tight_layout(rect=[0, 0.03, 1, 0.95])\n",
    "    plt.show()"
   ]
  },
  {
   "cell_type": "code",
   "execution_count": null,
   "metadata": {},
   "outputs": [],
   "source": [
    "plot_samples(X_oxwalk, Y_oxwalk, \"Samples taken from healthy subjects\")"
   ]
  },
  {
   "cell_type": "code",
   "execution_count": null,
   "metadata": {},
   "outputs": [],
   "source": [
    "plot_samples(X_ldopa[day_ldopa == 1], Y_ldopa[day_ldopa == 1], \"Samples taken from PD subjects on medication\")"
   ]
  },
  {
   "cell_type": "code",
   "execution_count": null,
   "metadata": {},
   "outputs": [],
   "source": [
    "plot_samples(X_ldopa[day_ldopa == 4], Y_ldopa[day_ldopa == 4], \"Samples taken from PD subjects off medication\")"
   ]
  }
 ],
 "metadata": {
  "kernelspec": {
   "display_name": "pd_walk",
   "language": "python",
   "name": "python3"
  },
  "language_info": {
   "codemirror_mode": {
    "name": "ipython",
    "version": 3
   },
   "file_extension": ".py",
   "mimetype": "text/x-python",
   "name": "python",
   "nbconvert_exporter": "python",
   "pygments_lexer": "ipython3",
   "version": "3.9.17"
  }
 },
 "nbformat": 4,
 "nbformat_minor": 2
}
